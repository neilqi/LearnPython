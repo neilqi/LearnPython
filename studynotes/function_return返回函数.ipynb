{
 "cells": [
  {
   "cell_type": "markdown",
   "metadata": {},
   "source": [
    "#### 返回函数\n",
    "+ 将函数作为结果返回"
   ]
  },
  {
   "cell_type": "code",
   "execution_count": 1,
   "metadata": {},
   "outputs": [
    {
     "name": "stdout",
     "output_type": "stream",
     "text": [
      "<function lazy_sum.<locals>.sum at 0x00000000056DEAE8>\n"
     ]
    }
   ],
   "source": [
    "def lazy_sum(*args): # *表示参数个数不定\n",
    "    def sum():\n",
    "        ax = 0\n",
    "        for n in args:\n",
    "            ax += n\n",
    "        return ax\n",
    "    return sum # 把sum方法作为返回值\n",
    "\n",
    "fun = lazy_sum(1,3,4,6,7) # 返回的是指向sum函数的指针，此时函数并没有被执行\n",
    "print(fun)"
   ]
  },
  {
   "cell_type": "code",
   "execution_count": 2,
   "metadata": {},
   "outputs": [
    {
     "data": {
      "text/plain": [
       "21"
      ]
     },
     "execution_count": 2,
     "metadata": {},
     "output_type": "execute_result"
    }
   ],
   "source": [
    "fun()"
   ]
  },
  {
   "cell_type": "code",
   "execution_count": 6,
   "metadata": {},
   "outputs": [],
   "source": [
    "def count():\n",
    "    fs = []\n",
    "    for i in range(1, 4): #定义3个函数。range到4但不包括4\n",
    "        def f():\n",
    "            return i ** 2\n",
    "        fs.append(f)\n",
    "    return fs"
   ]
  },
  {
   "cell_type": "code",
   "execution_count": 7,
   "metadata": {},
   "outputs": [
    {
     "name": "stdout",
     "output_type": "stream",
     "text": [
      "9\n",
      "9\n",
      "9\n"
     ]
    }
   ],
   "source": [
    "f1, f2, f3 = count()\n",
    "print(f1())\n",
    "print(f2())\n",
    "print(f3())"
   ]
  },
  {
   "cell_type": "markdown",
   "metadata": {},
   "source": [
    "<font color=\"red\">注意：f1, f2, f3 返回都是9。</font><br />\n",
    "原因：三个闭包中的i来自同一个变量, 在执行时i在内存中存的值为3"
   ]
  },
  {
   "cell_type": "markdown",
   "metadata": {},
   "source": [
    "#### 匿名函数（lambda）\n",
    "+  lambda表达式本质上就是个没有函数名的函数"
   ]
  },
  {
   "cell_type": "code",
   "execution_count": 8,
   "metadata": {},
   "outputs": [
    {
     "data": {
      "text/plain": [
       "[1, 4, 9, 16, 25, 36, 49, 64, 81]"
      ]
     },
     "execution_count": 8,
     "metadata": {},
     "output_type": "execute_result"
    }
   ],
   "source": [
    "# 传入lamda\n",
    "list(map(lambda x: x * x, [1, 2, 3, 4, 5, 6, 7, 8, 9]))"
   ]
  },
  {
   "cell_type": "code",
   "execution_count": 9,
   "metadata": {},
   "outputs": [
    {
     "data": {
      "text/plain": [
       "25"
      ]
     },
     "execution_count": 9,
     "metadata": {},
     "output_type": "execute_result"
    }
   ],
   "source": [
    "# 将lamda赋给变量， 与函数名赋给变量是一回事\n",
    "fa = lambda x: x*x\n",
    "fa(5)"
   ]
  },
  {
   "cell_type": "code",
   "execution_count": 10,
   "metadata": {},
   "outputs": [
    {
     "data": {
      "text/plain": [
       "25"
      ]
     },
     "execution_count": 10,
     "metadata": {},
     "output_type": "execute_result"
    }
   ],
   "source": [
    "# 将lamda作为返回值，与返回函数是一回事\n",
    "def build(x, y):\n",
    "    return lambda: x*x + y*y\n",
    "\n",
    "fb = build(3, 4)\n",
    "fb()"
   ]
  },
  {
   "cell_type": "markdown",
   "metadata": {},
   "source": [
    "#### 装饰器 decorator\n",
    "+ 本质上就是个返回函数\n",
    "+ 传入的参数是要装饰的函数，返回的参数是要执行的额外功能\n",
    "+ 如果decorator本身需要传入参数，那就需要编写一个返回decorator的高阶函数"
   ]
  },
  {
   "cell_type": "code",
   "execution_count": 11,
   "metadata": {},
   "outputs": [],
   "source": [
    "import time\n",
    "\n",
    "def log(func):\n",
    "    def wrapper(*args, **kw):\n",
    "        print('before call %s(), do something' % func.__name__)\n",
    "        result = func(*args, **kw)\n",
    "        print('after call %s(), do something else' % func.__name__)\n",
    "        return result\n",
    "    return wrapper"
   ]
  },
  {
   "cell_type": "code",
   "execution_count": 22,
   "metadata": {},
   "outputs": [],
   "source": [
    "@log   \n",
    "def now():\n",
    "    print(time.strftime('%Y-%m-%d %H:%M:%S', time.localtime()))\n",
    "    return"
   ]
  },
  {
   "cell_type": "code",
   "execution_count": 23,
   "metadata": {},
   "outputs": [
    {
     "name": "stdout",
     "output_type": "stream",
     "text": [
      "before call now(), do something\n",
      "2019-09-02 15:16:51\n",
      "after call now(), do something else\n"
     ]
    }
   ],
   "source": [
    "now()"
   ]
  },
  {
   "cell_type": "code",
   "execution_count": 29,
   "metadata": {},
   "outputs": [],
   "source": [
    "# 待参数的装饰器\n",
    "def logWithText(logtext):\n",
    "    def decorator(func):\n",
    "        def wrapper(*args, **kw):\n",
    "            print('before call %s(), log info: %s' % (func.__name__, logtext))\n",
    "            result = func(*args, **kw)\n",
    "            print('after call %s()' % func.__name__)\n",
    "            return result\n",
    "        return wrapper\n",
    "    return decorator"
   ]
  },
  {
   "cell_type": "code",
   "execution_count": 30,
   "metadata": {},
   "outputs": [],
   "source": [
    "@logWithText('调用新日期now2')\n",
    "def now2():\n",
    "    print(time.strftime('%Y-%m-%d %H:%M:%S', time.localtime()))\n",
    "    return"
   ]
  },
  {
   "cell_type": "code",
   "execution_count": 31,
   "metadata": {},
   "outputs": [
    {
     "name": "stdout",
     "output_type": "stream",
     "text": [
      "before call now2(), log info: 调用新日期now2\n",
      "2019-09-02 15:25:05\n",
      "after call now2()\n"
     ]
    }
   ],
   "source": [
    "now2()"
   ]
  },
  {
   "cell_type": "markdown",
   "metadata": {},
   "source": [
    "#### 偏函数\n",
    "+ 预先定义函数的部分参数， 目的是简化函数的调用\n",
    "+ partial参数：函数名，可变参数，关键字参数。其中函数名必须有，其他两个可有可无"
   ]
  },
  {
   "cell_type": "code",
   "execution_count": 32,
   "metadata": {},
   "outputs": [],
   "source": [
    "# 简化int函数，该函数的参数base预制为2\n",
    "import functools\n",
    "int2 = functools.partial(int, base=2) # 指定int方法的base参数为2\n",
    "#base=2是一个关键字参数。#如果有多个, 写成{base=2, param=2}形式"
   ]
  },
  {
   "cell_type": "code",
   "execution_count": 36,
   "metadata": {},
   "outputs": [
    {
     "data": {
      "text/plain": [
       "9"
      ]
     },
     "execution_count": 36,
     "metadata": {},
     "output_type": "execute_result"
    }
   ],
   "source": [
    "int2('1001')"
   ]
  },
  {
   "cell_type": "code",
   "execution_count": 37,
   "metadata": {},
   "outputs": [],
   "source": [
    "max2 = functools.partial(max, 10) # 指定max方法, 同时指定了一个可变参数10"
   ]
  },
  {
   "cell_type": "code",
   "execution_count": 38,
   "metadata": {},
   "outputs": [
    {
     "data": {
      "text/plain": [
       "10"
      ]
     },
     "execution_count": 38,
     "metadata": {},
     "output_type": "execute_result"
    }
   ],
   "source": [
    "max2(2, 3, 5) # 调用时，定义偏函数时传入的10也要参与运算"
   ]
  },
  {
   "cell_type": "code",
   "execution_count": 40,
   "metadata": {},
   "outputs": [
    {
     "data": {
      "text/plain": [
       "20"
      ]
     },
     "execution_count": 40,
     "metadata": {},
     "output_type": "execute_result"
    }
   ],
   "source": [
    "max2(20)"
   ]
  },
  {
   "cell_type": "code",
   "execution_count": null,
   "metadata": {},
   "outputs": [],
   "source": []
  }
 ],
 "metadata": {
  "kernelspec": {
   "display_name": "Python 3",
   "language": "python",
   "name": "python3"
  },
  "language_info": {
   "codemirror_mode": {
    "name": "ipython",
    "version": 3
   },
   "file_extension": ".py",
   "mimetype": "text/x-python",
   "name": "python",
   "nbconvert_exporter": "python",
   "pygments_lexer": "ipython3",
   "version": "3.7.3"
  }
 },
 "nbformat": 4,
 "nbformat_minor": 2
}
